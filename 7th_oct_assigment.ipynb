{
 "cells": [
  {
   "cell_type": "markdown",
   "id": "a6d24d37-a31c-408a-8820-54a942fb4ff5",
   "metadata": {},
   "source": [
    "# Problem 1: Bank Account Create a class representing a bank account with attributes like account number, account holder name, and balance. Implement methods to deposit and withdraw money from the account."
   ]
  },
  {
   "cell_type": "code",
   "execution_count": 55,
   "id": "57c5138f-a279-4692-839b-5344f13f400f",
   "metadata": {},
   "outputs": [],
   "source": [
    "try:\n",
    "    class account:\n",
    "        def __init__(self,name,mob_number):\n",
    "            self.name=name\n",
    "            self.account_number=mob_number\n",
    "            self.statement=[]\n",
    "        \n",
    "        def account_details(self):\n",
    "            return self.name,self.account_number,sum(self.statement)\n",
    "\n",
    "        def deposit_amount(self,deposit_amt):\n",
    "            if deposit_amt>0:\n",
    "                self.statement.append(deposit_amt)\n",
    "                return 'amount deposited updated balance is',sum(self.statement)\n",
    "            else:\n",
    "                return 'entered amount is invalid'\n",
    "        \n",
    "        def withdraw_amount(self,withdraw_amt):\n",
    "                if withdraw_amt>0:\n",
    "                    self.statement.append(-withdraw_amt)\n",
    "                    return 'amount withdrawn updated balance is',sum(self.statement)\n",
    "                else:\n",
    "                    return 'entered amount is invalid'\n",
    "\n",
    "except Exception as e:\n",
    "    print(e)"
   ]
  },
  {
   "cell_type": "code",
   "execution_count": 56,
   "id": "8745eebf-b2c0-46f4-896b-05db631c3e79",
   "metadata": {},
   "outputs": [],
   "source": [
    "amit=account('amit kumar',9123456789)"
   ]
  },
  {
   "cell_type": "code",
   "execution_count": 57,
   "id": "0396b5d6-279c-4e7a-b092-ba3aca64cf63",
   "metadata": {},
   "outputs": [
    {
     "data": {
      "text/plain": [
       "9123456789"
      ]
     },
     "execution_count": 57,
     "metadata": {},
     "output_type": "execute_result"
    }
   ],
   "source": [
    "amit.account_number"
   ]
  },
  {
   "cell_type": "code",
   "execution_count": 58,
   "id": "333757b5-11ac-403d-9ccb-c5f51c5a307f",
   "metadata": {},
   "outputs": [
    {
     "data": {
      "text/plain": [
       "[]"
      ]
     },
     "execution_count": 58,
     "metadata": {},
     "output_type": "execute_result"
    }
   ],
   "source": [
    "amit.statement"
   ]
  },
  {
   "cell_type": "code",
   "execution_count": 59,
   "id": "e5f033c9-0999-4e6a-a745-e44842365add",
   "metadata": {},
   "outputs": [
    {
     "data": {
      "text/plain": [
       "('amount deposited updated balance is', 5000)"
      ]
     },
     "execution_count": 59,
     "metadata": {},
     "output_type": "execute_result"
    }
   ],
   "source": [
    "amit.deposit_amount(5000)"
   ]
  },
  {
   "cell_type": "code",
   "execution_count": 44,
   "id": "a57a03d7-3405-46cf-9533-17745441cb33",
   "metadata": {},
   "outputs": [
    {
     "data": {
      "text/plain": [
       "('amount deposited updated balance is', 6000)"
      ]
     },
     "execution_count": 44,
     "metadata": {},
     "output_type": "execute_result"
    }
   ],
   "source": [
    "amit.deposit_amount(1000)"
   ]
  },
  {
   "cell_type": "code",
   "execution_count": 45,
   "id": "4bc31fc8-9ba0-4b4b-a04e-74dd3d0087a0",
   "metadata": {},
   "outputs": [
    {
     "data": {
      "text/plain": [
       "('amount withdrawn updated balance is', 4500)"
      ]
     },
     "execution_count": 45,
     "metadata": {},
     "output_type": "execute_result"
    }
   ],
   "source": [
    "amit.withdraw_amount(1500)"
   ]
  },
  {
   "cell_type": "code",
   "execution_count": 46,
   "id": "ceaf249d-05c6-4b65-88d1-d6524822b172",
   "metadata": {},
   "outputs": [
    {
     "data": {
      "text/plain": [
       "('amit kumar', 9123456789, 4500)"
      ]
     },
     "execution_count": 46,
     "metadata": {},
     "output_type": "execute_result"
    }
   ],
   "source": [
    "amit.account_details()"
   ]
  },
  {
   "cell_type": "code",
   "execution_count": 48,
   "id": "53993f6b-baff-4afe-9aef-1005a82b5674",
   "metadata": {},
   "outputs": [
    {
     "data": {
      "text/plain": [
       "[5000, 1000, -1500]"
      ]
     },
     "execution_count": 48,
     "metadata": {},
     "output_type": "execute_result"
    }
   ],
   "source": [
    "amit.statement"
   ]
  },
  {
   "cell_type": "markdown",
   "id": "a551b877-a14b-4f14-9e02-38305c1ffc01",
   "metadata": {},
   "source": [
    "# 2: Employee Management Create a class representing an employee with attributes like employee ID, name, and salary. Implement methods to calculate the yearly bonus and display employee details.\n"
   ]
  },
  {
   "cell_type": "code",
   "execution_count": 145,
   "id": "8305e521-648b-437a-ad27-2c453ce585f9",
   "metadata": {},
   "outputs": [],
   "source": [
    "try:\n",
    "    class abc_company:\n",
    "        \n",
    "        def __init__(self):\n",
    "            self.employee_list={}\n",
    "        \n",
    "        def employee_add(self,name,mob_number,salary):\n",
    "            self.employee_id=name+str(mob_number)\n",
    "            if self.employee_id not in self.employee_list:\n",
    "                self.employee_list.update({self.employee_id:salary})\n",
    "                return 'employee details added in marter list employee id is '+self.employee_id\n",
    "            else:\n",
    "                return 'employee already exist'\n",
    "\n",
    "        def bonus(self,employee_id,bonus_percentage):\n",
    "            if bonus_percentage>=0 or bonus_percentage<=100:\n",
    "                for i in self.employee_list:\n",
    "                    if i==employee_id:\n",
    "                        b=(self.employee_list.get(i)*bonus_percentage)/100\n",
    "                    return b\n",
    "            else:\n",
    "                return 'invalid bonus percentage'\n",
    "except Exception as e:\n",
    "    print(e)"
   ]
  },
  {
   "cell_type": "code",
   "execution_count": 146,
   "id": "d803efd1-edaa-4236-a887-be67ec90d927",
   "metadata": {},
   "outputs": [],
   "source": [
    "a=abc_company()"
   ]
  },
  {
   "cell_type": "code",
   "execution_count": 147,
   "id": "d005f27d-df40-4e4e-85d9-27ce4d0f27f9",
   "metadata": {},
   "outputs": [
    {
     "data": {
      "text/plain": [
       "'employee details added in marter list employee id is amit123456789'"
      ]
     },
     "execution_count": 147,
     "metadata": {},
     "output_type": "execute_result"
    }
   ],
   "source": [
    "a.employee_add('amit',123456789,3000000)"
   ]
  },
  {
   "cell_type": "code",
   "execution_count": 148,
   "id": "1fd42c61-657c-41f2-962c-bdc64a5f682f",
   "metadata": {},
   "outputs": [
    {
     "data": {
      "text/plain": [
       "{'amit123456789': 3000000}"
      ]
     },
     "execution_count": 148,
     "metadata": {},
     "output_type": "execute_result"
    }
   ],
   "source": [
    "a.employee_list"
   ]
  },
  {
   "cell_type": "code",
   "execution_count": 149,
   "id": "4ff6ed30-29e3-4e30-983b-7917adaa99da",
   "metadata": {},
   "outputs": [
    {
     "data": {
      "text/plain": [
       "150000.0"
      ]
     },
     "execution_count": 149,
     "metadata": {},
     "output_type": "execute_result"
    }
   ],
   "source": [
    "a.bonus('amit123456789',5)"
   ]
  },
  {
   "cell_type": "markdown",
   "id": "dfd26714-6f84-479b-8204-2e436b14bf28",
   "metadata": {},
   "source": [
    "# 3: Vehicle Rental Create a class representing a vehicle rental system. Implement methods to rent a vehicle, return a vehicle, and display available vehicles.\n"
   ]
  },
  {
   "cell_type": "code",
   "execution_count": 152,
   "id": "7d0bc313-53a1-4229-80f2-4fadbb5e5fdc",
   "metadata": {},
   "outputs": [],
   "source": [
    "try:\n",
    "    class car_rent:\n",
    "\n",
    "        def __init__(self,name,age,licence_number):\n",
    "            self.name=name\n",
    "            self.age=age\n",
    "            self.licence_number=licence_number\n",
    "            self.car_instock=['hyundai_creta','honda_elevate','mahindra_xuv700','kia_seltos']\n",
    "            self.alloted=None\n",
    "\n",
    "        def car_alloted(self,car_alloted):\n",
    "            if car_alloted in self.car_instock :\n",
    "                self.alloted=car_alloted\n",
    "                return self.name +' has been alloted '+car_alloted\n",
    "            else:\n",
    "                return 'car not availble'\n",
    "\n",
    "        def car_return(self,car_return):\n",
    "            if car_return==self.alloted:\n",
    "                self.alloted=None\n",
    "                return 'car return accepted'\n",
    "            else:\n",
    "                return 'wrong car returned'\n",
    "except Exception as e:\n",
    "    print(e)"
   ]
  },
  {
   "cell_type": "code",
   "execution_count": 153,
   "id": "72d2d300-ecd2-4a22-a83d-e1f8201f62ee",
   "metadata": {},
   "outputs": [
    {
     "name": "stdout",
     "output_type": "stream",
     "text": [
      "amit has been alloted hyundai_creta\n",
      "car return accepted\n"
     ]
    }
   ],
   "source": [
    "customer = car_rent('amit', 30, '12345')\n",
    "print(customer.car_alloted('hyundai_creta'))\n",
    "print(customer.car_return('hyundai_creta'))"
   ]
  },
  {
   "cell_type": "code",
   "execution_count": 113,
   "id": "9280a687-02fc-444d-8f34-8d43393b65ba",
   "metadata": {},
   "outputs": [
    {
     "data": {
      "text/plain": [
       "['hyundai_creta', 'honda_elevate', 'mahindra_xuv700', 'kia_seltos']"
      ]
     },
     "execution_count": 113,
     "metadata": {},
     "output_type": "execute_result"
    }
   ],
   "source": [
    "costumer.car_instock"
   ]
  },
  {
   "cell_type": "markdown",
   "id": "a9043a60-48f3-45be-b55c-42fecd5d86fa",
   "metadata": {},
   "source": [
    "# 4:Library Catalog Create classes representing a library and a book. Implement methods to add books to the library, borrow books, and display available books.\n"
   ]
  },
  {
   "cell_type": "code",
   "execution_count": 154,
   "id": "35775b50-6c34-4371-be34-456ce0ce0acf",
   "metadata": {},
   "outputs": [],
   "source": [
    "try:\n",
    "    class library:\n",
    "        def __init__(self):\n",
    "            self.books_in_stock=[]\n",
    "\n",
    "        def add_book_stock(self,book):\n",
    "            self.books_in_stock.append(book)\n",
    "\n",
    "        def borrow(self,student_name,student_class_sec,book_name):\n",
    "            if book_name in self.books_in_stock:\n",
    "                self.books_in_stock.remove(book_name)\n",
    "                return  book_name+' is issued to '+student_name\n",
    "            else:\n",
    "                return 'book not available'\n",
    "except Exception as e:\n",
    "    print(e)"
   ]
  },
  {
   "cell_type": "code",
   "execution_count": 155,
   "id": "6adce242-e358-4888-8139-bbd44d0926ee",
   "metadata": {},
   "outputs": [],
   "source": [
    "a=library()"
   ]
  },
  {
   "cell_type": "code",
   "execution_count": 156,
   "id": "8eb7cf28-e0dd-4709-9efe-959d89fabf16",
   "metadata": {},
   "outputs": [],
   "source": [
    "a.add_book_stock('alladin')"
   ]
  },
  {
   "cell_type": "code",
   "execution_count": 157,
   "id": "b163798c-db1e-47cf-9716-4ae57488e476",
   "metadata": {},
   "outputs": [
    {
     "data": {
      "text/plain": [
       "['alladin']"
      ]
     },
     "execution_count": 157,
     "metadata": {},
     "output_type": "execute_result"
    }
   ],
   "source": [
    "a.books_in_stock"
   ]
  },
  {
   "cell_type": "code",
   "execution_count": null,
   "id": "2c7ff9e6-d226-418e-9385-b3f077e39894",
   "metadata": {},
   "outputs": [
    {
     "data": {
      "text/plain": [
       "'alladin is issued to amit'"
      ]
     },
     "execution_count": 158,
     "metadata": {},
     "output_type": "execute_result"
    }
   ],
   "source": [
    "a.borrow('amit','7A','alladin')"
   ]
  },
  {
   "cell_type": "code",
   "execution_count": null,
   "id": "f8304c2a-a591-4a3c-8006-54dc7eab80fa",
   "metadata": {},
   "outputs": [
    {
     "data": {
      "text/plain": [
       "[]"
      ]
     },
     "execution_count": 159,
     "metadata": {},
     "output_type": "execute_result"
    }
   ],
   "source": [
    "a.books_in_stock"
   ]
  },
  {
   "cell_type": "markdown",
   "id": "b0191d8f-f575-4c7e-8832-64bae3ac5629",
   "metadata": {},
   "source": [
    "# Problem 5: Product Inventory Create classes representing a product and an inventory system. Implement methods to add products to the inventory, update product quantity, and display available products.\n"
   ]
  },
  {
   "cell_type": "code",
   "execution_count": 165,
   "id": "35206284-a75a-4ef7-af71-581b1cfe5de8",
   "metadata": {},
   "outputs": [],
   "source": [
    "try:    \n",
    "    class product:\n",
    "        def __init__(self,product_name,product_quantity):\n",
    "            self.product_name=product_name\n",
    "            self.product_quantity=0\n",
    "\n",
    "    class inventory:\n",
    "        def __init__(self):\n",
    "            self.product_instock={}\n",
    "\n",
    "\n",
    "        def add_stock(self,product_name,product_add_quantity):\n",
    "            if product_name in self.product_instock:\n",
    "                self.product_instock[product_name]+=product_add_quantity\n",
    "                return self.product_instock\n",
    "            else:\n",
    "                self.product_instock.update({product_name:product_add_quantity})\n",
    "                return self.product_instock\n",
    "except Exception as e:\n",
    "    print(e)"
   ]
  },
  {
   "cell_type": "code",
   "execution_count": 166,
   "id": "fb56f3b4-10b0-4b76-abc1-57556247653c",
   "metadata": {},
   "outputs": [],
   "source": [
    "a=inventory()"
   ]
  },
  {
   "cell_type": "code",
   "execution_count": 167,
   "id": "ccb038ec-e36c-4a83-b5da-dd17c253221d",
   "metadata": {},
   "outputs": [
    {
     "data": {
      "text/plain": [
       "{'dell_laptop': 10}"
      ]
     },
     "execution_count": 167,
     "metadata": {},
     "output_type": "execute_result"
    }
   ],
   "source": [
    "a.add_stock('dell_laptop',10)"
   ]
  },
  {
   "cell_type": "code",
   "execution_count": 168,
   "id": "e0c4f2ba-1006-4f04-b30e-989b73355573",
   "metadata": {},
   "outputs": [
    {
     "data": {
      "text/plain": [
       "{'dell_laptop': 10}"
      ]
     },
     "execution_count": 168,
     "metadata": {},
     "output_type": "execute_result"
    }
   ],
   "source": [
    "a.product_instock"
   ]
  },
  {
   "cell_type": "code",
   "execution_count": 169,
   "id": "09938f2f-ca50-469a-9d11-37f9361ed1f2",
   "metadata": {},
   "outputs": [
    {
     "data": {
      "text/plain": [
       "{'dell_laptop': 10, 'dell_new_laptop': 10}"
      ]
     },
     "execution_count": 169,
     "metadata": {},
     "output_type": "execute_result"
    }
   ],
   "source": [
    "a.add_stock('dell_new_laptop',10)"
   ]
  },
  {
   "cell_type": "code",
   "execution_count": 170,
   "id": "02e57752-9198-49be-8d1f-aaa95466a75a",
   "metadata": {},
   "outputs": [
    {
     "data": {
      "text/plain": [
       "{'dell_laptop': 10, 'dell_new_laptop': 10}"
      ]
     },
     "execution_count": 170,
     "metadata": {},
     "output_type": "execute_result"
    }
   ],
   "source": [
    "a.product_instock"
   ]
  },
  {
   "cell_type": "code",
   "execution_count": 171,
   "id": "bf5e3ede-3fb6-46c9-b1cf-1b948b8934f9",
   "metadata": {},
   "outputs": [
    {
     "data": {
      "text/plain": [
       "{'dell_laptop': 10, 'dell_new_laptop': 60}"
      ]
     },
     "execution_count": 171,
     "metadata": {},
     "output_type": "execute_result"
    }
   ],
   "source": [
    "a.add_stock('dell_new_laptop',50)"
   ]
  },
  {
   "cell_type": "code",
   "execution_count": 172,
   "id": "39d9c0cb-aa6e-4185-b601-9e103252d9e6",
   "metadata": {},
   "outputs": [
    {
     "data": {
      "text/plain": [
       "{'dell_laptop': 10, 'dell_new_laptop': 60}"
      ]
     },
     "execution_count": 172,
     "metadata": {},
     "output_type": "execute_result"
    }
   ],
   "source": [
    "a.product_instock"
   ]
  },
  {
   "cell_type": "markdown",
   "id": "8ab5e885-37be-451f-9b0a-f86a857b6321",
   "metadata": {},
   "source": [
    "# Problem 6: Shape Calculation Create a class representing a shape with attributes like length, width, and height. Implement methods to calculate the area and perimeter of the shape.\n"
   ]
  },
  {
   "cell_type": "code",
   "execution_count": 12,
   "id": "af099efd-8b73-4fd3-89c2-23eb9b1defd9",
   "metadata": {},
   "outputs": [],
   "source": [
    "try:\n",
    "    from math import sqrt\n",
    "    class shape:\n",
    "        def __init__(self,length,width,height):\n",
    "            self.length=length\n",
    "            self.width=width\n",
    "            self.height=height\n",
    "            self.lwh=[]\n",
    "\n",
    "        def calculate_shape_area(self):\n",
    "            if self.length>0:\n",
    "                self.lwh.append(self.length)\n",
    "            if self.width>0:\n",
    "                self.lwh.append(self.width)\n",
    "            if self.height>0:\n",
    "                self.lwh.append(self.height)\n",
    "                \n",
    "            if len(self.lwh)==1:\n",
    "                return 'shape is line','area is' ,self.lwh[0]**2,'perimeter is',self.lwh[0]\n",
    "            elif len(self.lwh)==2:\n",
    "                if self.lwh[0]==self.lwh[1]:\n",
    "                    return 'shape is square','area is',self.lwh[0]**2,'perimeter is', self.lwh[0]*4\n",
    "                else:\n",
    "                    return 'shape is rectangle','area =' ,self.lwh[0]*self.lwh[1],'perimeter is',(self.lwh[0]+self.lwh[1])*2\n",
    "            elif len(self.lwh)==3:\n",
    "                s=(self.lwh[0]+self.lwh[1]+self.lwh[2])/2\n",
    "                return ('shape is triangle'),('area',sqrt(s*(s-self.length)*(s-self.width)*(s-self.height))),('perimeter',self.lwh[0]+self.lwh[1]+self.lwh[2])\n",
    "            else:\n",
    "                return 'shape is circle'\n",
    "except Exception as e:\n",
    "    print (e)"
   ]
  },
  {
   "cell_type": "code",
   "execution_count": 13,
   "id": "06fb7ed9-f328-4802-ae1f-aa8b4971ee8c",
   "metadata": {},
   "outputs": [],
   "source": [
    "s=shape(5,5,5)"
   ]
  },
  {
   "cell_type": "code",
   "execution_count": 14,
   "id": "12a7fca2-d663-4f48-8761-34b162ad3038",
   "metadata": {},
   "outputs": [
    {
     "data": {
      "text/plain": [
       "('shape is triangle', ('area', 10.825317547305483), ('perimeter', 15))"
      ]
     },
     "execution_count": 14,
     "metadata": {},
     "output_type": "execute_result"
    }
   ],
   "source": [
    "s.calculate_shape_area()"
   ]
  },
  {
   "cell_type": "markdown",
   "id": "000c2c9a-d10e-4d0a-ad31-05c1ed7486d0",
   "metadata": {},
   "source": [
    "# Problem 7: Student Management Create a class representing a student with attributes like student ID, name, and grades. Implement methods to calculate the average grade and display student details."
   ]
  },
  {
   "cell_type": "code",
   "execution_count": 70,
   "id": "5fd28db5-cbf2-485c-805a-a73360bb8f08",
   "metadata": {},
   "outputs": [],
   "source": [
    "try:\n",
    "    class student_management:\n",
    "        def __init__(self,name,mobile_number):\n",
    "            self.name=name\n",
    "            self.mobile_number=mobile_number\n",
    "            self.student_id=self.name+str(self.mobile_number)\n",
    "            self.student_list={}\n",
    "            self.student_grade_list={}\n",
    "            \n",
    "        def add_student(self):\n",
    "            if self.student_id not in self.student_list:\n",
    "                self.student_list.update({self.student_id:{self.name:self.mobile_number}})\n",
    "                return 'student details have been added to marter list student id is',self.student_id\n",
    "            else:\n",
    "                return 'student data already exist in master list'\n",
    "            \n",
    "        def student_grades(self,subject_1,subject_2,subject_3):\n",
    "            avg_marks = (subject_1+subject_2+subject_3)/3\n",
    "            if avg_marks>=90:\n",
    "                return 'result: Grade A'and self.student_grade_list.update({self.student_id:'Grade A'})\n",
    "            elif avg_marks>=80:\n",
    "                return 'result: Grade B'and self.student_grade_list.update({self.student_id:'Grade B'})\n",
    "            elif avg_marks>=70:\n",
    "                return 'result: Grade C'and self.student_grade_list.update({self.student_id:'Grade C'})\n",
    "            else:\n",
    "                return 'result: Grade D'and self.student_grade_list.update({self.student_id:'Grade D'})\n",
    "            \n",
    "        def display_student_details(self):\n",
    "            for i in self.student_list:\n",
    "                if self.student_id==i:\n",
    "                    return self.student_list.get(i),self.student_grade_list.get(i)\n",
    "            else:\n",
    "                return 'entered name not found in student master list'\n",
    "            \n",
    "            for j in self.student_grade_list:\n",
    "                if self.student_id==j:\n",
    "                    return self.student_grade_list.get(j)\n",
    "                else:\n",
    "                    return 'entered name not found in grades master list '\n",
    "                \n",
    "except Exception as e:\n",
    "    print(e)"
   ]
  },
  {
   "cell_type": "code",
   "execution_count": 71,
   "id": "d5c1c23b-7272-4cf4-ab06-5a4320ec7a0d",
   "metadata": {},
   "outputs": [],
   "source": [
    "a=student_management('amit',123456789)"
   ]
  },
  {
   "cell_type": "code",
   "execution_count": 72,
   "id": "97728959-1230-4347-a39c-38697ddca29c",
   "metadata": {},
   "outputs": [
    {
     "data": {
      "text/plain": [
       "('student details have been added to marter list student id is',\n",
       " 'amit123456789')"
      ]
     },
     "execution_count": 72,
     "metadata": {},
     "output_type": "execute_result"
    }
   ],
   "source": [
    "a.add_student()"
   ]
  },
  {
   "cell_type": "code",
   "execution_count": 74,
   "id": "1a78f476-f775-4c6d-826e-69c51ff3d2c8",
   "metadata": {},
   "outputs": [],
   "source": [
    "a.student_grades(93,92,89)"
   ]
  },
  {
   "cell_type": "code",
   "execution_count": 75,
   "id": "5ae0ab35-fe8f-46cb-a475-49d89d91ccca",
   "metadata": {},
   "outputs": [
    {
     "data": {
      "text/plain": [
       "{'amit123456789': 'Grade A'}"
      ]
     },
     "execution_count": 75,
     "metadata": {},
     "output_type": "execute_result"
    }
   ],
   "source": [
    "a.student_grade_list"
   ]
  },
  {
   "cell_type": "code",
   "execution_count": 77,
   "id": "bdbf54d5-d966-4286-a6ff-d3db83410b9b",
   "metadata": {},
   "outputs": [
    {
     "data": {
      "text/plain": [
       "({'amit': 123456789}, 'Grade A')"
      ]
     },
     "execution_count": 77,
     "metadata": {},
     "output_type": "execute_result"
    }
   ],
   "source": [
    "a.display_student_details()"
   ]
  },
  {
   "cell_type": "markdown",
   "id": "7050a9f8-ad3f-4e31-a4c2-13a335773146",
   "metadata": {},
   "source": [
    "# Problem 8: Email Management Create a class representing an email with attributes like sender, recipient, and subject. Implement methods to send an email and display email details.\n"
   ]
  },
  {
   "cell_type": "code",
   "execution_count": 128,
   "id": "b0634ecd-c465-43cc-818c-dbe1fea25c5a",
   "metadata": {},
   "outputs": [],
   "source": [
    "try:\n",
    "    class email:\n",
    "        def __init__(self,login_id,password):\n",
    "            self.login_id=login_id\n",
    "            self.password=password\n",
    "            self.loginpage='https://mail.abc.com/mail/'\n",
    "            self.login_list={}\n",
    "\n",
    "        def login_account(self):\n",
    "            for i in self.login_list:\n",
    "                if i==self.login_id and self.login_list.get(self.login_id)==self.password:\n",
    "                    return 'you have login sucessfully', self.loginpage\n",
    "            else:\n",
    "                return 'login id password not correct'\n",
    "\n",
    "        def create_account(self):\n",
    "            if self.login_id not in self.login_list:\n",
    "                return self.login_list.update({self.login_id:self.password}) and 'account created',(self.login_id,self.password),'are login credentials'\n",
    "\n",
    "        def send_email(self,recipient,subject,content):\n",
    "            if '@' and '.' in recipient:\n",
    "                return (subject,content),'email sent'\n",
    "            else :\n",
    "                return 'recipient email id not correct'\n",
    "except Exception as e:\n",
    "    print(e)"
   ]
  },
  {
   "cell_type": "code",
   "execution_count": 119,
   "id": "1ae6c8d2-68e6-405c-a42a-82f8d2357084",
   "metadata": {},
   "outputs": [],
   "source": [
    "a=email('amitkumar87','amit1234')"
   ]
  },
  {
   "cell_type": "code",
   "execution_count": 120,
   "id": "6e57fa5e-ac54-42cd-99a9-ca7320419fea",
   "metadata": {},
   "outputs": [
    {
     "data": {
      "text/plain": [
       "'login id password not correct'"
      ]
     },
     "execution_count": 120,
     "metadata": {},
     "output_type": "execute_result"
    }
   ],
   "source": [
    "a.login_account()"
   ]
  },
  {
   "cell_type": "code",
   "execution_count": 121,
   "id": "2594b392-143b-4e27-8255-deb4a39c3020",
   "metadata": {},
   "outputs": [
    {
     "data": {
      "text/plain": [
       "(None, ('amitkumar87', 'amit1234'), 'are login credentials')"
      ]
     },
     "execution_count": 121,
     "metadata": {},
     "output_type": "execute_result"
    }
   ],
   "source": [
    "a.create_account()"
   ]
  },
  {
   "cell_type": "code",
   "execution_count": 122,
   "id": "315f5719-ab3a-4942-8384-8347be7e4d73",
   "metadata": {},
   "outputs": [
    {
     "data": {
      "text/plain": [
       "{'amitkumar87': 'amit1234'}"
      ]
     },
     "execution_count": 122,
     "metadata": {},
     "output_type": "execute_result"
    }
   ],
   "source": [
    "a.login_list"
   ]
  },
  {
   "cell_type": "code",
   "execution_count": 123,
   "id": "93e9b091-84b5-47f7-aabd-d2b26bd27c14",
   "metadata": {},
   "outputs": [
    {
     "data": {
      "text/plain": [
       "('you have login sucessfully', 'https://mail.abc.com/mail/')"
      ]
     },
     "execution_count": 123,
     "metadata": {},
     "output_type": "execute_result"
    }
   ],
   "source": [
    "a.login_account()"
   ]
  },
  {
   "cell_type": "code",
   "execution_count": 124,
   "id": "516325ed-6a20-4ec3-81f2-fb7b0ba6fa63",
   "metadata": {},
   "outputs": [
    {
     "data": {
      "text/plain": [
       "'recipient email id not correct'"
      ]
     },
     "execution_count": 124,
     "metadata": {},
     "output_type": "execute_result"
    }
   ],
   "source": [
    "a.send_email('abc@gmailcom','send email','urgent email')"
   ]
  },
  {
   "cell_type": "code",
   "execution_count": 125,
   "id": "96297dbc-f7be-4c02-ad9a-89bef9c7de37",
   "metadata": {},
   "outputs": [
    {
     "data": {
      "text/plain": [
       "(('send email', 'urgent email'), 'email sent')"
      ]
     },
     "execution_count": 125,
     "metadata": {},
     "output_type": "execute_result"
    }
   ],
   "source": [
    "a.send_email('abc@gmail.com','send email','urgent email')"
   ]
  },
  {
   "cell_type": "markdown",
   "id": "e6c67f29-acd3-4043-9b82-e53882b7ac76",
   "metadata": {},
   "source": [
    "# Problem 9: Social Media Profile Create a class representing a social media profile with attributes like username and posts. Implement methods to add posts, display posts, and search for posts by keyword.\n"
   ]
  },
  {
   "cell_type": "code",
   "execution_count": 125,
   "id": "0757d3cd-f6a1-49d9-98c7-7de5df94d348",
   "metadata": {},
   "outputs": [],
   "source": [
    "try:\n",
    "    class social_media:\n",
    "        def __init__(self,social_login_id,social_password):\n",
    "                self.social_login_id=social_login_id\n",
    "                self.social_password=social_password\n",
    "                self.social_loginpage='https://www.abc.com/mainpage/'\n",
    "                self.social_login_list={}\n",
    "                self.social_post_list=[]\n",
    "\n",
    "        def login_social_account(self):\n",
    "            for i in self.social_login_list:\n",
    "                if i==self.social_login_id and self.social_login_list.get(self.social_login_id)==self.social_password:\n",
    "                    return self.social_loginpage+str(self.social_login_id)\n",
    "            else:\n",
    "                return 'login id password not correct'\n",
    "\n",
    "        def create_social_account(self):\n",
    "            if self.social_login_id not in self.social_login_list:\n",
    "                return self.social_login_list.update({self.social_login_id:self.social_password}) and 'account created',(self.social_login_id,self.social_password),'are login credentials'\n",
    "\n",
    "        def post(self,create_post):\n",
    "            self.social_post_list.append(create_post)\n",
    "            return 'post updated', self.social_post_list\n",
    "            \n",
    "        def check_post(self):\n",
    "            if self.login_social_account==self.social_loginpage+str(self.social_login_id):\n",
    "                return self.social_post_list\n",
    "        \n",
    "        def search_post(self,keyword):\n",
    "            for i in self.social_post_list:\n",
    "                for j in i.split():\n",
    "                    if keyword==j:\n",
    "                        return(i)\n",
    "except Exception as e:\n",
    "    print(e)"
   ]
  },
  {
   "cell_type": "code",
   "execution_count": 126,
   "id": "e19cfa14-b149-4892-9e63-ecd8cfc36481",
   "metadata": {},
   "outputs": [],
   "source": [
    "s=social_media('pwskills','pwskills1234')"
   ]
  },
  {
   "cell_type": "code",
   "execution_count": 127,
   "id": "a2cad498-7795-480e-86f7-709228982ced",
   "metadata": {},
   "outputs": [
    {
     "data": {
      "text/plain": [
       "'login id password not correct'"
      ]
     },
     "execution_count": 127,
     "metadata": {},
     "output_type": "execute_result"
    }
   ],
   "source": [
    "s.login_social_account()"
   ]
  },
  {
   "cell_type": "code",
   "execution_count": 128,
   "id": "76eee092-22d4-45e3-9b94-f49f02e31ad0",
   "metadata": {},
   "outputs": [
    {
     "data": {
      "text/plain": [
       "(None, ('pwskills', 'pwskills1234'), 'are login credentials')"
      ]
     },
     "execution_count": 128,
     "metadata": {},
     "output_type": "execute_result"
    }
   ],
   "source": [
    "s.create_social_account()"
   ]
  },
  {
   "cell_type": "code",
   "execution_count": 129,
   "id": "3c368d1d-7a1a-4a9d-b072-904953889563",
   "metadata": {},
   "outputs": [
    {
     "data": {
      "text/plain": [
       "'https://www.abc.com/mainpage/pwskills'"
      ]
     },
     "execution_count": 129,
     "metadata": {},
     "output_type": "execute_result"
    }
   ],
   "source": [
    "s.login_social_account()"
   ]
  },
  {
   "cell_type": "code",
   "execution_count": 130,
   "id": "7fc90f8d-5915-4e93-9f88-65110d0ef555",
   "metadata": {},
   "outputs": [
    {
     "data": {
      "text/plain": [
       "{'pwskills': 'pwskills1234'}"
      ]
     },
     "execution_count": 130,
     "metadata": {},
     "output_type": "execute_result"
    }
   ],
   "source": [
    "s.social_login_list"
   ]
  },
  {
   "cell_type": "code",
   "execution_count": 131,
   "id": "cefd1858-aec3-466d-9c46-fd96eb68335f",
   "metadata": {},
   "outputs": [
    {
     "data": {
      "text/plain": [
       "('post updated', ['we are learning python'])"
      ]
     },
     "execution_count": 131,
     "metadata": {},
     "output_type": "execute_result"
    }
   ],
   "source": [
    "s.post('we are learning python')"
   ]
  },
  {
   "cell_type": "code",
   "execution_count": 132,
   "id": "564afd8b-b6e8-4101-9f18-0fdf1c75af63",
   "metadata": {},
   "outputs": [
    {
     "data": {
      "text/plain": [
       "('post updated', ['we are learning python', 'we are learning data science'])"
      ]
     },
     "execution_count": 132,
     "metadata": {},
     "output_type": "execute_result"
    }
   ],
   "source": [
    "s.post('we are learning data science')"
   ]
  },
  {
   "cell_type": "code",
   "execution_count": 133,
   "id": "4e11f378-d98a-4520-8f57-1cdbc8535933",
   "metadata": {},
   "outputs": [
    {
     "data": {
      "text/plain": [
       "['we are learning python', 'we are learning data science']"
      ]
     },
     "execution_count": 133,
     "metadata": {},
     "output_type": "execute_result"
    }
   ],
   "source": [
    "s.social_post_list"
   ]
  },
  {
   "cell_type": "code",
   "execution_count": 135,
   "id": "e7e9b505-d5ac-4247-aa8d-6a2bf3ca82f7",
   "metadata": {},
   "outputs": [
    {
     "data": {
      "text/plain": [
       "'we are learning data science'"
      ]
     },
     "execution_count": 135,
     "metadata": {},
     "output_type": "execute_result"
    }
   ],
   "source": [
    "s.search_post('data')"
   ]
  },
  {
   "cell_type": "markdown",
   "id": "008585c9-7a45-4005-a8c5-95144025b7d1",
   "metadata": {},
   "source": [
    "# Problem 10: ToDo List Create a class representing a ToDo list with attributes like tasks and due dates. Implement methods to add tasks, mark tasks as completed, and display pending tasks."
   ]
  },
  {
   "cell_type": "code",
   "execution_count": 22,
   "id": "5cee97e4-ec9c-47bc-a610-4e0415a764d8",
   "metadata": {},
   "outputs": [],
   "source": [
    "try:\n",
    "    class todo:\n",
    "        def __init__(self):\n",
    "            self.todo_list={}\n",
    "            \n",
    "        def add_task(self,task,till_date):\n",
    "            self.todo_list.update({task:till_date})\n",
    "            return self.todo_list\n",
    "        \n",
    "        def mark_complete(self,task):\n",
    "            for i in self.todo_list:\n",
    "                if i == task:\n",
    "                    self.todo_list.pop(task)\n",
    "                    return 'task marked as complted updated todo list',self.todo_list\n",
    "                else:\n",
    "                    return 'task not found in todo list'\n",
    "            \n",
    "except Exception as e:\n",
    "    print(e)"
   ]
  },
  {
   "cell_type": "code",
   "execution_count": 23,
   "id": "53a8c655-8821-499d-82bb-1d832d7fc282",
   "metadata": {},
   "outputs": [],
   "source": [
    "a=todo()"
   ]
  },
  {
   "cell_type": "code",
   "execution_count": 24,
   "id": "4da56cf4-dfbb-4eed-9286-b720e6d69fdd",
   "metadata": {},
   "outputs": [
    {
     "data": {
      "text/plain": [
       "{'pay electricity bill': '2/11/2023'}"
      ]
     },
     "execution_count": 24,
     "metadata": {},
     "output_type": "execute_result"
    }
   ],
   "source": [
    "a.add_task('pay electricity bill','2/11/2023')"
   ]
  },
  {
   "cell_type": "code",
   "execution_count": 25,
   "id": "8a1ac169-586b-4e7c-a0ad-e53a4a310ec0",
   "metadata": {},
   "outputs": [
    {
     "data": {
      "text/plain": [
       "{'pay electricity bill': '2/11/2023', 'pay phone bill': '5/11/2023'}"
      ]
     },
     "execution_count": 25,
     "metadata": {},
     "output_type": "execute_result"
    }
   ],
   "source": [
    "a.add_task('pay phone bill','5/11/2023')"
   ]
  },
  {
   "cell_type": "code",
   "execution_count": 26,
   "id": "865826e7-a780-42b7-aca3-3973676f5a41",
   "metadata": {},
   "outputs": [
    {
     "data": {
      "text/plain": [
       "('task marked as complted updated todo list', {'pay phone bill': '5/11/2023'})"
      ]
     },
     "execution_count": 26,
     "metadata": {},
     "output_type": "execute_result"
    }
   ],
   "source": [
    "a.mark_complete('pay electricity bill')"
   ]
  },
  {
   "cell_type": "code",
   "execution_count": null,
   "id": "c330cb01-ac33-4f97-9e93-c887acf8002e",
   "metadata": {},
   "outputs": [],
   "source": []
  }
 ],
 "metadata": {
  "kernelspec": {
   "display_name": "Python 3 (ipykernel)",
   "language": "python",
   "name": "python3"
  },
  "language_info": {
   "codemirror_mode": {
    "name": "ipython",
    "version": 3
   },
   "file_extension": ".py",
   "mimetype": "text/x-python",
   "name": "python",
   "nbconvert_exporter": "python",
   "pygments_lexer": "ipython3",
   "version": "3.10.8"
  }
 },
 "nbformat": 4,
 "nbformat_minor": 5
}
